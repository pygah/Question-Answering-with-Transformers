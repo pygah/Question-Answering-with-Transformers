{
 "cells": [
  {
   "cell_type": "code",
   "execution_count": 3,
   "metadata": {
    "colab": {
     "base_uri": "https://localhost:8080/",
     "height": 835,
     "referenced_widgets": [
      "730d01220fe94cd6987c7f2b1eaed9e3",
      "d203c981ff9d419b926f4ba87b52eea7",
      "e16f158ed17c4163945db6af92a7e7b8",
      "331469509b7d41d99fd4f7a031486d6e",
      "b2fb4574cecd48e1bbff5694b3cf28dd",
      "9b4b870ff7d54ef6944c06e56f9bf5ff",
      "c192522c0e9e4867823c66d70a4197f1",
      "56e449a622fe4df39e232f21cfea0fd5",
      "a4a1abd35ade44049baad01a393fca43",
      "1f47f6f0c3e6429292627169182b2247",
      "d5527935d0b94f7ab327d2c8e0a31ac5",
      "62614e49d20740499332b9208997e691",
      "4113e8900bc94215adfb68d9d711535c",
      "fb40cc46a281497f931ddebf6e27b0bf",
      "5e21b15682b749d4901f45da922b95ea",
      "c7344ccd7a25492287a0ac5652592fab",
      "f8f0369a50134a6d9c62f531e6c6cb62",
      "a226ce52c3ce4c0992257c3940c5956e",
      "c41e48bedd4b4024abe616beceed224c",
      "dc1c5772b9074bdaa0d2521ccdf9e49e",
      "3490ae16bb204b889710f0dc07d1cbe0",
      "b299c78f56b6452184499ee73612c890",
      "4dfd641d78fd4831983950bde77d1d8a",
      "37d440aad0ca47d8aa638fb6040277a5",
      "9554714b08514be7931b679f85403a9a",
      "88feb601b0ef42d192598a0e97556c05",
      "4b868a7e488f46c29c300556af8878a0",
      "dfd754e247d346cbbad8a6f8a91a18b7",
      "55fe541b9b884e98a8ce09f6fe09422c",
      "bec2f6eaf1f1494fb0bb9f5e20cc6d41",
      "69c16128c0d146bdb075856c2b249963",
      "b65837611bdc496ea7a77b86b4466f38",
      "2c42e2ee2a9e4c2199ce77f1fed4a73f",
      "ed88e927b0fb4c8ea30de29d84e3e593",
      "8a0cfc6dbeab42eab043a08e5d3582f4",
      "418f6a3175184471aa97465416d10e6a",
      "ae1f14d09eea4bb7921411cc05c4cb27",
      "68e1ba9103a74797bf95f67bb0f79133",
      "97757cba5cab40c49a78a9b532c86bc2",
      "cb46b8daf0984c04bcdb71cabd22b97b",
      "0452cbe4f53942748e914f90a9c20092",
      "576fbdf9664d4b99b7dd9e90d754f3f5",
      "de386e7c1ee94dada1b627a05266fe73",
      "f185af6fdad2492fafd648c727021f9c",
      "a6ba570fa2b54de2a517c70f0484602e",
      "2186eae3f97249b2a3f7957ea2a04d63",
      "dac1df7661a441ec92e9cb229344d453",
      "4e4ac62a24fe431db3d67eafd18467ea",
      "a8108a051f1e4b58ac6cb390c0bdcb95",
      "94deb4db52e44292a78fe36e8f69af3e",
      "326b190fc9234e42b191d27fc28c3410",
      "0ab69bfde8b24617a7f501bff04938c8",
      "1e3d9b7dbd024ad996b65bae99fc494d",
      "6262456cd3cc47cfb869a16183463305",
      "22076391193e4ed29c3e93222cdc2cde",
      "cb622873f8b94f14a4969ca42466f72e",
      "fc9105237e314a0a815143647cae9d3a",
      "0596f2583f114cfe92d3c2e0daa88102",
      "45ab029e1f8a4bd4a3c81fc4e4ee8326",
      "c85169d28c2d4ff494a46f545a1bd523",
      "7e75b1d1fe7e4cdda617667a04a58e00",
      "63e11dcc0ae94d0da1032d358b6af76b",
      "b551ff7b69eb419bae5aff171049e262",
      "8aac7b5abfc84a749bd4398f628b4015",
      "d2052b0b68ae4e4e8591d452fb03e0f0",
      "6adf8a13b00143d58cdba71d3050ff1b",
      "5abc1a1ac94d49e19014583046f995c1",
      "01c205cafe15494fb6d7ac77cc4505d3",
      "17bd3d65549244b5a936bebb4c05027b",
      "6956f61b07274d3481ed070cefb81d1a",
      "a639125eade1424a8a1232ee34d592b8",
      "eaeccb63607a4c9681854075300ed24c",
      "d16ae3f944ce42bdb3922ac2bd2945b7",
      "d89a75907a4b495480e6e8f2df4bea5b",
      "655bb3a42aa1405ca815c513a11c7657",
      "4d52d15fdaa44167b7043589c2f33e84",
      "4b291b63c40745c38c8ccfd648aabd59",
      "963616c4cbfe415ca8e009f0d013987b",
      "c1045ea4a7fb4f64be959314040bdfb6",
      "8bfd5c08b9f94371a495eaa255f80c25",
      "fd153403771741cc82219fa7d961655b",
      "380b37284f1143bd80dc263e68287dad",
      "352b2bf710f34515a082142c6524ba22",
      "2d3aa47a446c46958aa54199662c5444",
      "82f72e5fd6d74e47b64b8aca97c09e69",
      "f5d45fb468b04894a5c1eccc9383e8ad",
      "de2fab5b12e34227ae661afcb563c1e0",
      "6a38a54ac7be49798d0ecc042af7a2df",
      "68275223e2bb44ffa02a5c1861b45d4e",
      "5cbe193805b54bf98561200dd8681c90",
      "c251775c7a774d26a83c6f304ca66ebf",
      "92097c1e5cef433cbd4056803639915d",
      "ca1e3a9b19e74b1b9e33002753e7d96b",
      "e0117109e68748a8b90b3720bb3a3265",
      "2523927bfb3d444ca3076991ec9f7bd4",
      "75698124fb5240ab9cbf9d68b19b4933",
      "7a83b5ec72e34fdaad35a36088088ca9",
      "139424ef25694630b86eb3d621cf6590",
      "1aecf76b97374d5ea47a0e1284667e33",
      "02b3e2dc2d1a46a8bfeb9ec657bbf9b2",
      "f5c82d3661854ce1b196881b485e0a78",
      "70a80e6619df437695b0da281e98a7d8",
      "c97d021ecdbf4f71b666da1cc489eb6f",
      "7b7f1d849f654f1f94fb076e3c64c0f6",
      "857363bf7d3244bd98ecfdb6572dbd40",
      "393822987f5f49f398eec0047734e828",
      "ad39e2e627124ef78df0b48016c4aac3",
      "245933f60e044f9096f9d18720b9a9e7",
      "098a620c0ec547c08979a0a3223613ae",
      "c569e90df954445e84f43292fb0a7a03",
      "53b3583348844611a4b4105959acf098",
      "2d0daf7ca9044fa9bd4f1dbf4b053f2a",
      "8e3c2aa2878b4cbfa9082f91f4128eaf",
      "635fe4d96e27483991546dc1ddbbe71e",
      "f85de4f0883845beb1091ab32c747e97",
      "8018e4c6ebe34d18b585a80458a256f9",
      "5cbe11197b21497cac9ba361cd947814",
      "1b04f0798b364e97b94d8f2f7f121615",
      "e73edc15c50a414b8329677f1716e6f5",
      "06cba9e328574698970db2782aacaed1",
      "7d90ea7260fa4dfd96b5a51bd46e4e01",
      "89a78662fd9d4648a102b93c6de02bea",
      "d6b4793b390242639fdae41ee2015f92",
      "54ae030dcd4b4057b6a5b38a5a98a685",
      "1d71c8ef7f1c4094b1204d14b5373ff6",
      "6ce5c82b5e7446b39f901acd4c20b5b5",
      "f549f8d3f5364c6e95c2ba0d51c5b537",
      "3d5cdc3ead7441829efe8a72f3ea4119",
      "2a1fa53f3de04e59b43b14e3bf112fe2",
      "fb63eaef5766434484021fdfc4816359",
      "898a8666b573478ea88cd9b256b9e35f",
      "f3b4b3d099554257b65e222d612904b8",
      "07aced2d4dc94b5aba8d469077629398",
      "48f9024f59564c20aa00e5b61c0519ce",
      "7d197f834aee4a0984ee707c03209aea",
      "a5df060146ba4f769fec554e7d1f3877",
      "1dd5570dad534d94afcd2b142e642d80",
      "1dc76e57558f4c2a9d6c5d47f304149d",
      "b8198ec84ac54a2dacc4a64b4f9085de",
      "357b49e478034e4db9f050cf31fc60c9",
      "80f59ce5d3544d9eb6c916a79980af16",
      "ac730e0bd48149f39fb5ef3e4fc5569a",
      "9d59a32928a942b1b7ca0bc60fabcb79"
     ]
    },
    "executionInfo": {
     "elapsed": 51553,
     "status": "ok",
     "timestamp": 1760902247127,
     "user": {
      "displayName": "Ghaith Saeedy",
      "userId": "14669804575872843402"
     },
     "user_tz": -180
    },
    "id": "aMXlTOE15boh",
    "outputId": "918ea8a3-03a2-4e30-aebc-6bb0d525b800"
   },
   "outputs": [
    {
     "data": {
      "application/vnd.jupyter.widget-view+json": {
       "model_id": "730d01220fe94cd6987c7f2b1eaed9e3",
       "version_major": 2,
       "version_minor": 0
      },
      "text/plain": [
       "Downloading builder script: 0.00B [00:00, ?B/s]"
      ]
     },
     "metadata": {},
     "output_type": "display_data"
    },
    {
     "data": {
      "application/vnd.jupyter.widget-view+json": {
       "model_id": "62614e49d20740499332b9208997e691",
       "version_major": 2,
       "version_minor": 0
      },
      "text/plain": [
       "Downloading extra modules: 0.00B [00:00, ?B/s]"
      ]
     },
     "metadata": {},
     "output_type": "display_data"
    },
    {
     "name": "stdout",
     "output_type": "stream",
     "text": [
      "\n",
      "=== Evaluating distilbert-base-uncased ===\n"
     ]
    },
    {
     "name": "stderr",
     "output_type": "stream",
     "text": [
      "Some weights of DistilBertForQuestionAnswering were not initialized from the model checkpoint at distilbert-base-uncased and are newly initialized: ['qa_outputs.bias', 'qa_outputs.weight']\n",
      "You should probably TRAIN this model on a down-stream task to be able to use it for predictions and inference.\n",
      "Device set to use cpu\n"
     ]
    },
    {
     "name": "stdout",
     "output_type": "stream",
     "text": [
      "Exact Match: 0.00, F1: 0.00\n",
      "\n",
      "=== Evaluating roberta-base ===\n"
     ]
    },
    {
     "data": {
      "application/vnd.jupyter.widget-view+json": {
       "model_id": "4dfd641d78fd4831983950bde77d1d8a",
       "version_major": 2,
       "version_minor": 0
      },
      "text/plain": [
       "tokenizer_config.json:   0%|          | 0.00/25.0 [00:00<?, ?B/s]"
      ]
     },
     "metadata": {},
     "output_type": "display_data"
    },
    {
     "data": {
      "application/vnd.jupyter.widget-view+json": {
       "model_id": "ed88e927b0fb4c8ea30de29d84e3e593",
       "version_major": 2,
       "version_minor": 0
      },
      "text/plain": [
       "config.json:   0%|          | 0.00/481 [00:00<?, ?B/s]"
      ]
     },
     "metadata": {},
     "output_type": "display_data"
    },
    {
     "data": {
      "application/vnd.jupyter.widget-view+json": {
       "model_id": "a6ba570fa2b54de2a517c70f0484602e",
       "version_major": 2,
       "version_minor": 0
      },
      "text/plain": [
       "vocab.json:   0%|          | 0.00/899k [00:00<?, ?B/s]"
      ]
     },
     "metadata": {},
     "output_type": "display_data"
    },
    {
     "data": {
      "application/vnd.jupyter.widget-view+json": {
       "model_id": "cb622873f8b94f14a4969ca42466f72e",
       "version_major": 2,
       "version_minor": 0
      },
      "text/plain": [
       "merges.txt:   0%|          | 0.00/456k [00:00<?, ?B/s]"
      ]
     },
     "metadata": {},
     "output_type": "display_data"
    },
    {
     "data": {
      "application/vnd.jupyter.widget-view+json": {
       "model_id": "5abc1a1ac94d49e19014583046f995c1",
       "version_major": 2,
       "version_minor": 0
      },
      "text/plain": [
       "tokenizer.json:   0%|          | 0.00/1.36M [00:00<?, ?B/s]"
      ]
     },
     "metadata": {},
     "output_type": "display_data"
    },
    {
     "data": {
      "application/vnd.jupyter.widget-view+json": {
       "model_id": "963616c4cbfe415ca8e009f0d013987b",
       "version_major": 2,
       "version_minor": 0
      },
      "text/plain": [
       "model.safetensors:   0%|          | 0.00/499M [00:00<?, ?B/s]"
      ]
     },
     "metadata": {},
     "output_type": "display_data"
    },
    {
     "name": "stderr",
     "output_type": "stream",
     "text": [
      "Some weights of RobertaForQuestionAnswering were not initialized from the model checkpoint at roberta-base and are newly initialized: ['qa_outputs.bias', 'qa_outputs.weight']\n",
      "You should probably TRAIN this model on a down-stream task to be able to use it for predictions and inference.\n",
      "Device set to use cpu\n"
     ]
    },
    {
     "name": "stdout",
     "output_type": "stream",
     "text": [
      "Exact Match: 0.00, F1: 18.91\n",
      "\n",
      "=== Evaluating albert-base-v2 ===\n"
     ]
    },
    {
     "data": {
      "application/vnd.jupyter.widget-view+json": {
       "model_id": "68275223e2bb44ffa02a5c1861b45d4e",
       "version_major": 2,
       "version_minor": 0
      },
      "text/plain": [
       "tokenizer_config.json:   0%|          | 0.00/25.0 [00:00<?, ?B/s]"
      ]
     },
     "metadata": {},
     "output_type": "display_data"
    },
    {
     "data": {
      "application/vnd.jupyter.widget-view+json": {
       "model_id": "02b3e2dc2d1a46a8bfeb9ec657bbf9b2",
       "version_major": 2,
       "version_minor": 0
      },
      "text/plain": [
       "config.json:   0%|          | 0.00/684 [00:00<?, ?B/s]"
      ]
     },
     "metadata": {},
     "output_type": "display_data"
    },
    {
     "data": {
      "application/vnd.jupyter.widget-view+json": {
       "model_id": "53b3583348844611a4b4105959acf098",
       "version_major": 2,
       "version_minor": 0
      },
      "text/plain": [
       "spiece.model:   0%|          | 0.00/760k [00:00<?, ?B/s]"
      ]
     },
     "metadata": {},
     "output_type": "display_data"
    },
    {
     "data": {
      "application/vnd.jupyter.widget-view+json": {
       "model_id": "89a78662fd9d4648a102b93c6de02bea",
       "version_major": 2,
       "version_minor": 0
      },
      "text/plain": [
       "tokenizer.json:   0%|          | 0.00/1.31M [00:00<?, ?B/s]"
      ]
     },
     "metadata": {},
     "output_type": "display_data"
    },
    {
     "data": {
      "application/vnd.jupyter.widget-view+json": {
       "model_id": "07aced2d4dc94b5aba8d469077629398",
       "version_major": 2,
       "version_minor": 0
      },
      "text/plain": [
       "model.safetensors:   0%|          | 0.00/47.4M [00:00<?, ?B/s]"
      ]
     },
     "metadata": {},
     "output_type": "display_data"
    },
    {
     "name": "stderr",
     "output_type": "stream",
     "text": [
      "Some weights of AlbertForQuestionAnswering were not initialized from the model checkpoint at albert-base-v2 and are newly initialized: ['qa_outputs.bias', 'qa_outputs.weight']\n",
      "You should probably TRAIN this model on a down-stream task to be able to use it for predictions and inference.\n",
      "Device set to use cpu\n"
     ]
    },
    {
     "name": "stdout",
     "output_type": "stream",
     "text": [
      "Exact Match: 0.00, F1: 3.33\n",
      "\n",
      "✅ All models evaluated.\n",
      "Run Streamlit app with:\n",
      "!streamlit run app.py --server.port 8080 --server.address 0.0.0.0\n"
     ]
    }
   ],
   "source": [
    "# ================================================\n",
    "#  Question Answering on SQuAD v1.1\n",
    "# Tools: HuggingFace Transformers, Tokenizers, Pandas, Streamlit\n",
    "# ================================================\n",
    "!pip install -q transformers datasets evaluate streamlit\n",
    "\n",
    "import pandas as pd, json\n",
    "from transformers import AutoTokenizer, AutoModelForQuestionAnswering, pipeline\n",
    "import evaluate\n",
    "\n",
    "# === Load Dataset ===\n",
    "train_path = \"/content/drive/MyDrive/Datasets/train-v1.1.json\"\n",
    "dev_path   = \"/content/drive/MyDrive/Datasets/dev-v1.1.json\"\n",
    "\n",
    "def load_squad(file_path):\n",
    "    with open(file_path) as f: data = json.load(f)\n",
    "    rows = []\n",
    "    for a in data['data']:\n",
    "        for p in a['paragraphs']:\n",
    "            context = p['context']\n",
    "            for qa in p['qas']:\n",
    "                question = qa['question']\n",
    "                answer = qa['answers'][0]['text']\n",
    "                rows.append({'context': context, 'question': question, 'answer': answer})\n",
    "    return pd.DataFrame(rows)\n",
    "\n",
    "train_df, dev_df = load_squad(train_path), load_squad(dev_path)\n",
    "\n",
    "# === Evaluation Metric (Fixed) ===\n",
    "metric = evaluate.load(\"squad\")\n",
    "\n",
    "def evaluate_model(model_name):\n",
    "    print(f\"\\n=== Evaluating {model_name} ===\")\n",
    "    tokenizer = AutoTokenizer.from_pretrained(model_name)\n",
    "    model = AutoModelForQuestionAnswering.from_pretrained(model_name)\n",
    "    qa_pipeline = pipeline(\"question-answering\", model=model, tokenizer=tokenizer)\n",
    "\n",
    "    preds, refs = [], []\n",
    "    for i in range(10):  # subset for quick demo\n",
    "        q, c, a = dev_df.iloc[i][['question','context','answer']]\n",
    "        result = qa_pipeline(question=q, context=c)\n",
    "        preds.append({\"id\": str(i), \"prediction_text\": result['answer']})\n",
    "        refs.append({\"id\": str(i), \"answers\": {\"text\": [a], \"answer_start\": [c.find(a)]}})\n",
    "\n",
    "    scores = metric.compute(predictions=preds, references=refs)\n",
    "    print(f\"Exact Match: {scores['exact_match']:.2f}, F1: {scores['f1']:.2f}\")\n",
    "\n",
    "# === Compare Models ===\n",
    "for model in [\"distilbert-base-uncased\", \"roberta-base\", \"albert-base-v2\"]:\n",
    "    evaluate_model(model)\n",
    "\n",
    "# === Bonus: Simple Streamlit Interface ===\n",
    "with open(\"app.py\",\"w\") as f:\n",
    "    f.write('''\n",
    "import streamlit as st\n",
    "from transformers import pipeline\n",
    "\n",
    "st.title(\" Question Answering System\")\n",
    "qa_model = st.selectbox(\"Choose a model\", [\"distilbert-base-uncased\", \"roberta-base\", \"albert-base-v2\"])\n",
    "nlp = pipeline(\"question-answering\", model=qa_model)\n",
    "context = st.text_area(\"Enter passage\")\n",
    "question = st.text_input(\"Enter your question\")\n",
    "if st.button(\"Get Answer\"):\n",
    "    if context and question:\n",
    "        ans = nlp(question=question, context=context)\n",
    "        st.success(f\"Answer: {ans['answer']}\")\n",
    "''')\n",
    "print(\"\\n✅ All models evaluated.\\nRun Streamlit app with:\\n!streamlit run app.py --server.port 8080 --server.address 0.0.0.0\")\n"
   ]
  },
  {
   "cell_type": "code",
   "execution_count": 7,
   "metadata": {
    "colab": {
     "base_uri": "https://localhost:8080/",
     "height": 439
    },
    "executionInfo": {
     "elapsed": 5265,
     "status": "error",
     "timestamp": 1760903631384,
     "user": {
      "displayName": "Ghaith Saeedy",
      "userId": "14669804575872843402"
     },
     "user_tz": -180
    },
    "id": "eOBPXlp5_o6M",
    "outputId": "c8767f99-c1d0-4179-9f6b-30684c63d63d"
   },
   "outputs": [
    {
     "name": "stdout",
     "output_type": "stream",
     "text": [
      "Requirement already satisfied: nbformat in /usr/local/lib/python3.12/dist-packages (5.10.4)\n",
      "Requirement already satisfied: fastjsonschema>=2.15 in /usr/local/lib/python3.12/dist-packages (from nbformat) (2.21.2)\n",
      "Requirement already satisfied: jsonschema>=2.6 in /usr/local/lib/python3.12/dist-packages (from nbformat) (4.25.1)\n",
      "Requirement already satisfied: jupyter-core!=5.0.*,>=4.12 in /usr/local/lib/python3.12/dist-packages (from nbformat) (5.8.1)\n",
      "Requirement already satisfied: traitlets>=5.1 in /usr/local/lib/python3.12/dist-packages (from nbformat) (5.7.1)\n",
      "Requirement already satisfied: attrs>=22.2.0 in /usr/local/lib/python3.12/dist-packages (from jsonschema>=2.6->nbformat) (25.4.0)\n",
      "Requirement already satisfied: jsonschema-specifications>=2023.03.6 in /usr/local/lib/python3.12/dist-packages (from jsonschema>=2.6->nbformat) (2025.9.1)\n",
      "Requirement already satisfied: referencing>=0.28.4 in /usr/local/lib/python3.12/dist-packages (from jsonschema>=2.6->nbformat) (0.37.0)\n",
      "Requirement already satisfied: rpds-py>=0.7.1 in /usr/local/lib/python3.12/dist-packages (from jsonschema>=2.6->nbformat) (0.27.1)\n",
      "Requirement already satisfied: platformdirs>=2.5 in /usr/local/lib/python3.12/dist-packages (from jupyter-core!=5.0.*,>=4.12->nbformat) (4.5.0)\n",
      "Requirement already satisfied: typing-extensions>=4.4.0 in /usr/local/lib/python3.12/dist-packages (from referencing>=0.28.4->jsonschema>=2.6->nbformat) (4.15.0)\n"
     ]
    },
    {
     "ename": "FileNotFoundError",
     "evalue": "[Errno 2] No such file or directory: '/content/drive/MyDrive/Colab Notebooks/Question Answering with Transformers.ipynb'",
     "output_type": "error",
     "traceback": [
      "\u001b[0;31m---------------------------------------------------------------------------\u001b[0m",
      "\u001b[0;31mFileNotFoundError\u001b[0m                         Traceback (most recent call last)",
      "\u001b[0;32m/tmp/ipython-input-1211392774.py\u001b[0m in \u001b[0;36m<cell line: 0>\u001b[0;34m()\u001b[0m\n\u001b[1;32m      5\u001b[0m \u001b[0moutput_nb\u001b[0m \u001b[0;34m=\u001b[0m \u001b[0;34m\"/content/drive/MyDrive/Colab Notebooks/Question_Answering_with_Transformers_clean.ipynb\"\u001b[0m\u001b[0;34m\u001b[0m\u001b[0;34m\u001b[0m\u001b[0m\n\u001b[1;32m      6\u001b[0m \u001b[0;34m\u001b[0m\u001b[0m\n\u001b[0;32m----> 7\u001b[0;31m \u001b[0;32mwith\u001b[0m \u001b[0mopen\u001b[0m\u001b[0;34m(\u001b[0m\u001b[0minput_nb\u001b[0m\u001b[0;34m,\u001b[0m \u001b[0;34m\"r\"\u001b[0m\u001b[0;34m,\u001b[0m \u001b[0mencoding\u001b[0m\u001b[0;34m=\u001b[0m\u001b[0;34m\"utf-8\"\u001b[0m\u001b[0;34m)\u001b[0m \u001b[0;32mas\u001b[0m \u001b[0mf\u001b[0m\u001b[0;34m:\u001b[0m\u001b[0;34m\u001b[0m\u001b[0;34m\u001b[0m\u001b[0m\n\u001b[0m\u001b[1;32m      8\u001b[0m     \u001b[0mnb\u001b[0m \u001b[0;34m=\u001b[0m \u001b[0mnbformat\u001b[0m\u001b[0;34m.\u001b[0m\u001b[0mread\u001b[0m\u001b[0;34m(\u001b[0m\u001b[0mf\u001b[0m\u001b[0;34m,\u001b[0m \u001b[0mas_version\u001b[0m\u001b[0;34m=\u001b[0m\u001b[0;36m4\u001b[0m\u001b[0;34m)\u001b[0m\u001b[0;34m\u001b[0m\u001b[0;34m\u001b[0m\u001b[0m\n\u001b[1;32m      9\u001b[0m \u001b[0;34m\u001b[0m\u001b[0m\n",
      "\u001b[0;31mFileNotFoundError\u001b[0m: [Errno 2] No such file or directory: '/content/drive/MyDrive/Colab Notebooks/Question Answering with Transformers.ipynb'"
     ]
    }
   ],
   "source": [
    "!pip install nbformat\n",
    "import nbformat\n",
    "\n",
    "input_nb = \"/content/drive/MyDrive/Colab Notebooks/Question Answering with Transformers.ipynb\"\n",
    "output_nb = \"/content/drive/MyDrive/Colab Notebooks/Question_Answering_with_Transformers_clean.ipynb\"\n",
    "\n",
    "with open(input_nb, \"r\", encoding=\"utf-8\") as f:\n",
    "    nb = nbformat.read(f, as_version=4)\n",
    "\n",
    "if \"widgets\" in nb[\"metadata\"]:\n",
    "    del nb[\"metadata\"][\"widgets\"]\n",
    "\n",
    "nbformat.write(nb, output_nb)\n",
    "print(f\"✅ Cleaned notebook saved as {output_nb}\")\n"
   ]
  }
 ],
 "metadata": {
  "accelerator": "GPU",
  "colab": {
   "authorship_tag": "ABX9TyO0vPWMKA97cCl2JqFkI7cE",
   "gpuType": "T4",
   "mount_file_id": "1-BULjsY9OmfKGBBpebwTtYoTa9cdTLmA",
   "provenance": [
    {
     "file_id": "1-BULjsY9OmfKGBBpebwTtYoTa9cdTLmA",
     "timestamp": 1760960177087
    }
   ]
  },
  "kernelspec": {
   "display_name": "Python 3",
   "name": "python3"
  },
  "language_info": {
   "name": "python"
  }
 },
 "nbformat": 4,
 "nbformat_minor": 0
}
